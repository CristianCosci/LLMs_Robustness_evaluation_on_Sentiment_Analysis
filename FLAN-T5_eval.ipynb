{
 "cells": [
  {
   "cell_type": "code",
   "execution_count": 1,
   "metadata": {},
   "outputs": [
    {
     "name": "stderr",
     "output_type": "stream",
     "text": [
      "/usr/local/lib/python3.10/dist-packages/tqdm/auto.py:21: TqdmWarning: IProgress not found. Please update jupyter and ipywidgets. See https://ipywidgets.readthedocs.io/en/stable/user_install.html\n",
      "  from .autonotebook import tqdm as notebook_tqdm\n"
     ]
    }
   ],
   "source": [
    "from transformers import AutoModelForSeq2SeqLM, AutoTokenizer\n",
    "from datasets import load_dataset\n",
    "from transformers import pipeline\n",
    "import pandas as pd\n",
    "import json\n",
    "\n",
    "model = AutoModelForSeq2SeqLM.from_pretrained(\"google/flan-t5-base\").to(\"cuda\")\n",
    "tokenizer = AutoTokenizer.from_pretrained(\"google/flan-t5-base\")"
   ]
  },
  {
   "cell_type": "code",
   "execution_count": 2,
   "metadata": {},
   "outputs": [
    {
     "name": "stdout",
     "output_type": "stream",
     "text": [
      "   Sentiment                                               Text\n",
      "0          0  A spoiler.<br /><br />What three words can gua...\n",
      "1          0  The premise of this awaited sequel was really ...\n",
      "2          0  The wonderful \"Z\" Channel in Los Angeles showe...\n",
      "3          1  Carl Brashear (Cuba Gooding, Jr.) was born to ...\n",
      "4          1  This slick and gritty film consistently delive...\n",
      "\n",
      "   Sentiment                                               Text\n",
      "0          1  A spoiler.<br /><br />What three words can gua...\n",
      "1          1  The premise of this awaited sequel was really ...\n",
      "2          1  The wonderful \"Z\" Channel in Los Angeles showe...\n",
      "3          0  Carl Brashear (Cuba Gooding, Jr.) was born to ...\n",
      "4          0  This slick and gritty film consistently fails ...\n"
     ]
    }
   ],
   "source": [
    "# Load Original Dataset and Contrast Set\n",
    "original_set = pd.read_csv('Dataset/test_original.tsv', sep='\\t')\n",
    "contrast_set = pd.read_csv('Dataset/test_contrast.tsv', sep='\\t')\n",
    "\n",
    "# Load Original Dataset and Contrast Set\n",
    "prompt_original_set = pd.read_csv('Dataset/dev_original.tsv', sep='\\t')\n",
    "prompt_contrast_set = pd.read_csv('Dataset/dev_contrast.tsv', sep='\\t')\n",
    "\n",
    "\n",
    "# Change Labels from 'Positive' to 1 and from 'Negative' to 0\n",
    "original_set['Sentiment'] = original_set['Sentiment'].replace({'Negative': 0, 'Positive': 1})\n",
    "contrast_set['Sentiment'] = contrast_set['Sentiment'].replace({'Negative': 0, 'Positive': 1})\n",
    "prompt_original_set['Sentiment'] = prompt_original_set['Sentiment'].replace({'Negative': 0, 'Positive': 1})\n",
    "prompt_contrast_set['Sentiment'] = prompt_contrast_set['Sentiment'].replace({'Negative': 0, 'Positive': 1})\n",
    "\n",
    "\n",
    "print(original_set.head())\n",
    "print()\n",
    "print(contrast_set.head())"
   ]
  },
  {
   "cell_type": "code",
   "execution_count": 3,
   "metadata": {},
   "outputs": [
    {
     "name": "stdout",
     "output_type": "stream",
     "text": [
      "TEXT: Johnny and June Carter Cash financed this film which is a traditional rendering of the Gospel stories. The music is great ish, you get a real feel of what the world of Jesus looked like (I've been there too), and June gets into the part of Mary Magdalene with a passion. Cash's narration is good too.<br /><br />But....<br /><br />1. The actor who played Jesus was miscast. 2. There is no edge to the story like Cash puts in some of his faith based music. 3. Because it is uncompelling, I doubt we'll see this ever widely distributed again.<br /><br />I'd never buy the CD.<br /><br />Tom Paine Texas, USA\n",
      "SENTIMENT: NEGATIVE\n",
      "\n",
      "TEXT: There's something wonderful about the fact that a movie made in 1934 can be head and shoulders above every Tarzan movie that followed it, including the bloated and boring 1980s piece Greystoke. Unfortunately, it still sucks. hard. Once the viewer gets past the first three scenes, which are admittedly dull, Tarzan and his Mate takes off like a shot, offering non-stop cheep action, humor, and romance. Maureen O'Sullivan is charming and beautiful as Jane but couldn't take off with the movie. Weismuller is solid. Highly recommended out of the other Tarzan movies, but still disappointing.\n",
      "SENTIMENT: NEGATIVE\n",
      "\n",
      "TEXT: I watched the Pie-lette last night and the word that comes to mind is \"original-less.\" It is a word that is used much in TV as they all tend to copy whatever the other network is doing and you end up with seven nights of crime shows, unfunny comedies, and reality crap.<br /><br />The first thing that hit me like a brick was the presence of Jim Dale. Those not familiar with the British \"Carry On ...\" series or those who have not listened to a Harry Potter book, may not be familiar with Dale. I am not sure whether his presence as narrator adds or distracts. I will have to tune in more, but it does give the show a \"Harry Potter\" atmosphere. I doubt that's a good thing.<br /><br />Lee Pace (Infamous, The White Countess) has a gift. It never explains where he got it, but he can bring someone back from the dead for a minute. He teams with Chi McBride (\"Boston Public,\" Roll Bounce) to solve murders using this talent. Everything is fine until he comes across a childhood love, Anna Friel (Goal! The Dream Begins, Timeline) and things really get complicated. He can't send her back and he can never touch her. Boy, would that make a relationship difficult.<br /><br />I will be tuning for another series and this one doesn't go in the expectation that it will entertain.\n",
      "SENTIMENT: NEGATIVE\n",
      "\n",
      "TEXT: This is my sentence\n",
      "SENTIMENT:\n"
     ]
    }
   ],
   "source": [
    "import random\n",
    "def build_example(dataset, index):\n",
    "    return f\"\"\"TEXT: {dataset['Text'][index]}\n",
    "SENTIMENT: {[\"NEGATIVE\", \"POSITIVE\"][dataset['Sentiment'][index]]}\n",
    "\"\"\"\n",
    "\n",
    "def get_build_prompt(dataset, shots=1):\n",
    "    def build_prompt(sent):\n",
    "        ret = \"\"\n",
    "        '''\n",
    "        if prompt_defintion and shots >0:\n",
    "            ret += 'Classify the Sentiment of the TEXT. You can only choose between NEGATIVE or POSITIVE. Here you have some examples:\\n\\n'\n",
    "        elif prompt_defintion:\n",
    "            ret += 'Classify the Sentiment of the TEXT. You can only choose between NEGATIVE or POSITIVE:\\n'\n",
    "        '''\n",
    "        \n",
    "        indexes = random.sample(range(0, len(dataset)-1), shots)\n",
    "        for index in indexes:\n",
    "            ret += build_example(dataset, index)+\"\\n\"\n",
    "        ret += f\"TEXT: {sent}\\n\"\n",
    "        ret += \"SENTIMENT:\"\n",
    "\n",
    "        return ret\n",
    "    \n",
    "    return build_prompt\n",
    "\n",
    "prompt = get_build_prompt(prompt_contrast_set, shots=3)\n",
    "print(prompt(\"This is my sentence\"))"
   ]
  },
  {
   "cell_type": "code",
   "execution_count": 4,
   "metadata": {},
   "outputs": [
    {
     "name": "stderr",
     "output_type": "stream",
     "text": [
      "Token indices sequence length is longer than the specified maximum sequence length for this model (637 > 512). Running this sequence through the model will result in indexing errors\n"
     ]
    },
    {
     "name": "stdout",
     "output_type": "stream",
     "text": [
      "1\n"
     ]
    }
   ],
   "source": [
    "def inference(*, prompt, sentence, tokenizer, model):\n",
    "    inputs = tokenizer(prompt(sentence), return_tensors=\"pt\").to(\"cuda\")\n",
    "    outputs = model.generate(**inputs, max_new_tokens=50)\n",
    "    output = tokenizer.batch_decode(outputs, skip_special_tokens=True)[0]\n",
    "\n",
    "    if \"NEGATIVE\" in output:\n",
    "        return 0\n",
    "    elif \"POSITIVE\" in output:\n",
    "        return 1\n",
    "    else:\n",
    "        #print(\"Model is confused... generated text: \", output)\n",
    "        return 0\n",
    "\n",
    "print(inference(prompt=prompt, sentence=\"I love you\", tokenizer=tokenizer, model=model))"
   ]
  },
  {
   "cell_type": "code",
   "execution_count": 5,
   "metadata": {},
   "outputs": [],
   "source": [
    "import torch\n",
    "from tqdm import tqdm\n",
    "from transformers import pipeline\n",
    "from sklearn.metrics import classification_report\n",
    "\n",
    "@torch.no_grad()\n",
    "def eval(dataset, prompt_dataset):\n",
    "    overall_results = dict()\n",
    "\n",
    "    for shots in [0,1,3,5]:\n",
    "        print(\"Running shot\", shots)\n",
    "        prompt = get_build_prompt(prompt_dataset, shots=shots)\n",
    "\n",
    "        total = len(dataset)\n",
    "        targets = []\n",
    "        predictions = []\n",
    "\n",
    "        for i in tqdm(range(total), total=total):\n",
    "            targets.append(dataset['Sentiment'][i])\n",
    "            predictions.append(inference(prompt=prompt, sentence=dataset['Text'][i], tokenizer=tokenizer, model=model))\n",
    "            if i >= total:\n",
    "                break\n",
    "    \n",
    "        report = classification_report(targets, predictions, output_dict=True)\n",
    "        overall_results[shots] = report\n",
    "\n",
    "    return overall_results"
   ]
  },
  {
   "cell_type": "code",
   "execution_count": 6,
   "metadata": {},
   "outputs": [
    {
     "name": "stdout",
     "output_type": "stream",
     "text": [
      "Running shot 0\n"
     ]
    },
    {
     "name": "stderr",
     "output_type": "stream",
     "text": [
      "100%|██████████| 488/488 [03:10<00:00,  2.56it/s]\n",
      "/usr/local/lib/python3.10/dist-packages/sklearn/metrics/_classification.py:1344: UndefinedMetricWarning: Precision and F-score are ill-defined and being set to 0.0 in labels with no predicted samples. Use `zero_division` parameter to control this behavior.\n",
      "  _warn_prf(average, modifier, msg_start, len(result))\n",
      "/usr/local/lib/python3.10/dist-packages/sklearn/metrics/_classification.py:1344: UndefinedMetricWarning: Precision and F-score are ill-defined and being set to 0.0 in labels with no predicted samples. Use `zero_division` parameter to control this behavior.\n",
      "  _warn_prf(average, modifier, msg_start, len(result))\n",
      "/usr/local/lib/python3.10/dist-packages/sklearn/metrics/_classification.py:1344: UndefinedMetricWarning: Precision and F-score are ill-defined and being set to 0.0 in labels with no predicted samples. Use `zero_division` parameter to control this behavior.\n",
      "  _warn_prf(average, modifier, msg_start, len(result))\n"
     ]
    },
    {
     "name": "stdout",
     "output_type": "stream",
     "text": [
      "Running shot 1\n"
     ]
    },
    {
     "name": "stderr",
     "output_type": "stream",
     "text": [
      "100%|██████████| 488/488 [02:35<00:00,  3.15it/s]\n"
     ]
    },
    {
     "name": "stdout",
     "output_type": "stream",
     "text": [
      "Running shot 3\n"
     ]
    },
    {
     "name": "stderr",
     "output_type": "stream",
     "text": [
      "100%|██████████| 488/488 [04:18<00:00,  1.89it/s]\n"
     ]
    },
    {
     "name": "stdout",
     "output_type": "stream",
     "text": [
      "Running shot 5\n"
     ]
    },
    {
     "name": "stderr",
     "output_type": "stream",
     "text": [
      "100%|██████████| 488/488 [04:26<00:00,  1.83it/s]\n"
     ]
    }
   ],
   "source": [
    "results_original_set = eval(dataset=original_set, prompt_dataset=prompt_original_set)\n",
    "\n",
    "with open('origin_results.json', 'w') as f:\n",
    "    json.dump(results_original_set, f, sort_keys=True, indent=4)"
   ]
  },
  {
   "cell_type": "code",
   "execution_count": 7,
   "metadata": {},
   "outputs": [
    {
     "name": "stdout",
     "output_type": "stream",
     "text": [
      "Running shot 0\n"
     ]
    },
    {
     "name": "stderr",
     "output_type": "stream",
     "text": [
      "100%|██████████| 488/488 [03:10<00:00,  2.57it/s]\n",
      "/usr/local/lib/python3.10/dist-packages/sklearn/metrics/_classification.py:1344: UndefinedMetricWarning: Precision and F-score are ill-defined and being set to 0.0 in labels with no predicted samples. Use `zero_division` parameter to control this behavior.\n",
      "  _warn_prf(average, modifier, msg_start, len(result))\n",
      "/usr/local/lib/python3.10/dist-packages/sklearn/metrics/_classification.py:1344: UndefinedMetricWarning: Precision and F-score are ill-defined and being set to 0.0 in labels with no predicted samples. Use `zero_division` parameter to control this behavior.\n",
      "  _warn_prf(average, modifier, msg_start, len(result))\n",
      "/usr/local/lib/python3.10/dist-packages/sklearn/metrics/_classification.py:1344: UndefinedMetricWarning: Precision and F-score are ill-defined and being set to 0.0 in labels with no predicted samples. Use `zero_division` parameter to control this behavior.\n",
      "  _warn_prf(average, modifier, msg_start, len(result))\n"
     ]
    },
    {
     "name": "stdout",
     "output_type": "stream",
     "text": [
      "Running shot 1\n"
     ]
    },
    {
     "name": "stderr",
     "output_type": "stream",
     "text": [
      "100%|██████████| 488/488 [02:42<00:00,  3.01it/s]\n"
     ]
    },
    {
     "name": "stdout",
     "output_type": "stream",
     "text": [
      "Running shot 3\n"
     ]
    },
    {
     "name": "stderr",
     "output_type": "stream",
     "text": [
      "100%|██████████| 488/488 [04:23<00:00,  1.85it/s]\n"
     ]
    },
    {
     "name": "stdout",
     "output_type": "stream",
     "text": [
      "Running shot 5\n"
     ]
    },
    {
     "name": "stderr",
     "output_type": "stream",
     "text": [
      "100%|██████████| 488/488 [04:29<00:00,  1.81it/s]\n"
     ]
    }
   ],
   "source": [
    "results_contrast_set = eval(dataset=contrast_set, prompt_dataset=prompt_contrast_set)\n",
    "\n",
    "with open('contrast_results.json', 'w') as f:\n",
    "    json.dump(results_contrast_set, f, sort_keys=True, indent=4)"
   ]
  },
  {
   "cell_type": "code",
   "execution_count": 8,
   "metadata": {},
   "outputs": [],
   "source": [
    "from matplotlib import pyplot as plt\n",
    "import numpy as np\n",
    "import pandas as pd\n",
    "\n",
    "performance_original = []\n",
    "performance_contrast = []\n",
    "\n",
    "for shot, report in results_original_set.items():\n",
    "    performance_original.append(dict(shot=shot, accuracy=report[\"accuracy\"]))\n",
    "\n",
    "for shot, report in results_contrast_set.items():\n",
    "    performance_contrast.append(dict(shot=shot, accuracy=report[\"accuracy\"]))\n"
   ]
  },
  {
   "cell_type": "code",
   "execution_count": 9,
   "metadata": {},
   "outputs": [
    {
     "name": "stdout",
     "output_type": "stream",
     "text": [
      "[0.4979508196721312, 0.5020491803278688, 0.5491803278688525, 0.47540983606557374, 0.639344262295082, 0.6454918032786885, 0.5758196721311475, 0.6209016393442623]\n",
      "['0 Shots', '0 Shots C', '1 Shots', '1 Shots C', '3 Shots', '3 Shots C', '5 Shots', '5 Shots C']\n"
     ]
    }
   ],
   "source": [
    "total = []\n",
    "indexes = []\n",
    "original_result = [performance_original[x]['accuracy'] for x in range(len(performance_original))]\n",
    "contrast_result = [performance_contrast[x]['accuracy'] for x in range(len(performance_contrast))]\n",
    "shots_list = [str(x)+' Shots' for x in [y['shot'] for y in performance_contrast]]\n",
    "\n",
    "for i in range(len(original_result)):\n",
    "    total.append(original_result[i])\n",
    "    total.append(contrast_result[i])\n",
    "    indexes.append(shots_list[i])\n",
    "    indexes.append(shots_list[i]+' C')\n",
    "\n",
    "print(total)\n",
    "print(indexes)"
   ]
  },
  {
   "cell_type": "code",
   "execution_count": 10,
   "metadata": {},
   "outputs": [
    {
     "data": {
      "image/png": "[encoded data removed]",
      "text/plain": [
       "<Figure size 640x480 with 1 Axes>"
      ]
     },
     "metadata": {},
     "output_type": "display_data"
    }
   ],
   "source": [
    "plt.bar([i for i in range(len(indexes)) if i % 2 == 0], [total[i] for i in range(len(indexes)) if i % 2 == 0], color='blue', label='Original')\n",
    "plt.bar([i for i in range(len(indexes)) if i % 2 != 0], [total[i] for i in range(len(indexes)) if i % 2 != 0], color='orange', label='Contrast')\n",
    "plt.xticks(ticks = [i for i in range(len(indexes))], labels=[indexes[i] for i in range(len(indexes))], fontsize=6)\n",
    "\n",
    "plt.ylabel('Accuracy')\n",
    "plt.xlabel('Shots')\n",
    "\n",
    "plt.title('Accuracy on different Few Shots Situations')\n",
    "plt.legend()\n",
    "plt.show()"
   ]
  }
 ],
 "metadata": {
  "kernelspec": {
   "display_name": "Python 3",
   "language": "python",
   "name": "python3"
  },
  "language_info": {
   "codemirror_mode": {
    "name": "ipython",
    "version": 3
   },
   "file_extension": ".py",
   "mimetype": "text/x-python",
   "name": "python",
   "nbconvert_exporter": "python",
   "pygments_lexer": "ipython3",
   "version": "3.10.12"
  }
 },
 "nbformat": 4,
 "nbformat_minor": 2
}
