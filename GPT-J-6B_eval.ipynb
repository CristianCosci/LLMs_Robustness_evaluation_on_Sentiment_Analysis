{
 "cells": [
  {
   "cell_type": "code",
   "execution_count": 1,
   "metadata": {},
   "outputs": [
    {
     "name": "stderr",
     "output_type": "stream",
     "text": [
      "/usr/local/lib/python3.10/dist-packages/tqdm/auto.py:21: TqdmWarning: IProgress not found. Please update jupyter and ipywidgets. See https://ipywidgets.readthedocs.io/en/stable/user_install.html\n",
      "  from .autonotebook import tqdm as notebook_tqdm\n"
     ]
    }
   ],
   "source": [
    "from datasets import load_dataset\n",
    "from transformers import pipeline\n",
    "import pandas as pd\n",
    "import json\n",
    "\n",
    "MODEL = \"EleutherAI/gpt-j-6B\"\n",
    "\n",
    "generator = pipeline(\"text-generation\", model=MODEL, device=\"cuda\", truncation=True)"
   ]
  },
  {
   "cell_type": "code",
   "execution_count": 2,
   "metadata": {},
   "outputs": [
    {
     "name": "stdout",
     "output_type": "stream",
     "text": [
      "DatasetDict({\n",
      "    train: Dataset({\n",
      "        features: ['text', 'label'],\n",
      "        num_rows: 25000\n",
      "    })\n",
      "    test: Dataset({\n",
      "        features: ['text', 'label'],\n",
      "        num_rows: 25000\n",
      "    })\n",
      "    unsupervised: Dataset({\n",
      "        features: ['text', 'label'],\n",
      "        num_rows: 50000\n",
      "    })\n",
      "})\n",
      "{'text': 'I rented I AM CURIOUS-YELLOW from my video store because of all the controversy that surrounded it when it was first released in 1967. I also heard that at first it was seized by U.S. customs if it ever tried to enter this country, therefore being a fan of films considered \"controversial\" I really had to see this for myself.<br /><br />The plot is centered around a young Swedish drama student named Lena who wants to learn everything she can about life. In particular she wants to focus her attentions to making some sort of documentary on what the average Swede thought about certain political issues such as the Vietnam War and race issues in the United States. In between asking politicians and ordinary denizens of Stockholm about their opinions on politics, she has sex with her drama teacher, classmates, and married men.<br /><br />What kills me about I AM CURIOUS-YELLOW is that 40 years ago, this was considered pornographic. Really, the sex and nudity scenes are few and far between, even then it\\'s not shot like some cheaply made porno. While my countrymen mind find it shocking, in reality sex and nudity are a major staple in Swedish cinema. Even Ingmar Bergman, arguably their answer to good old boy John Ford, had sex scenes in his films.<br /><br />I do commend the filmmakers for the fact that any sex shown in the film is shown for artistic purposes rather than just to shock people and make money to be shown in pornographic theaters in America. I AM CURIOUS-YELLOW is a good film for anyone wanting to study the meat and potatoes (no pun intended) of Swedish cinema. But really, this film doesn\\'t have much of a plot.', 'label': 0}\n"
     ]
    }
   ],
   "source": [
    "dataset = load_dataset(\"imdb\")\n",
    "\n",
    "print(dataset)\n",
    "print(dataset['train'][0])\n",
    "\n",
    "imdb = dataset['train']\n",
    "\n",
    "pd_imdb =  imdb.to_pandas()\n",
    "\n",
    "new_column_names = {'text': 'Text', 'label': 'Sentiment'}\n",
    "pd_imdb = pd_imdb.rename(columns=new_column_names)"
   ]
  },
  {
   "cell_type": "code",
   "execution_count": 3,
   "metadata": {},
   "outputs": [
    {
     "name": "stdout",
     "output_type": "stream",
     "text": [
      "   Sentiment                                               Text\n",
      "0          0  A spoiler.<br /><br />What three words can gua...\n",
      "1          0  The premise of this awaited sequel was really ...\n",
      "2          0  The wonderful \"Z\" Channel in Los Angeles showe...\n",
      "3          1  Carl Brashear (Cuba Gooding, Jr.) was born to ...\n",
      "4          1  This slick and gritty film consistently delive...\n",
      "\n",
      "   Sentiment                                               Text\n",
      "0          1  A spoiler.<br /><br />What three words can gua...\n",
      "1          1  The premise of this awaited sequel was really ...\n",
      "2          1  The wonderful \"Z\" Channel in Los Angeles showe...\n",
      "3          0  Carl Brashear (Cuba Gooding, Jr.) was born to ...\n",
      "4          0  This slick and gritty film consistently fails ...\n"
     ]
    }
   ],
   "source": [
    "# Load Original Dataset and Contrast Set\n",
    "original_set = pd.read_csv('Dataset/test_original.tsv', sep='\\t')\n",
    "contrast_set = pd.read_csv('Dataset/test_contrast.tsv', sep='\\t')\n",
    "\n",
    "# Load Original Dataset and Contrast Set\n",
    "prompt_original_set = pd.read_csv('Dataset/dev_original.tsv', sep='\\t')\n",
    "prompt_contrast_set = pd.read_csv('Dataset/dev_contrast.tsv', sep='\\t')\n",
    "\n",
    "\n",
    "# Change Labels from 'Positive' to 1 and from 'Negative' to 0\n",
    "original_set['Sentiment'] = original_set['Sentiment'].replace({'Negative': 0, 'Positive': 1})\n",
    "contrast_set['Sentiment'] = contrast_set['Sentiment'].replace({'Negative': 0, 'Positive': 1})\n",
    "prompt_original_set['Sentiment'] = prompt_original_set['Sentiment'].replace({'Negative': 0, 'Positive': 1})\n",
    "prompt_contrast_set['Sentiment'] = prompt_contrast_set['Sentiment'].replace({'Negative': 0, 'Positive': 1})\n",
    "\n",
    "\n",
    "print(original_set.head())\n",
    "print()\n",
    "print(contrast_set.head())"
   ]
  },
  {
   "cell_type": "code",
   "execution_count": 4,
   "metadata": {},
   "outputs": [
    {
     "name": "stdout",
     "output_type": "stream",
     "text": [
      "488\n",
      "100\n"
     ]
    }
   ],
   "source": [
    "print(len(original_set))\n",
    "print(len(prompt_original_set))"
   ]
  },
  {
   "cell_type": "code",
   "execution_count": 5,
   "metadata": {},
   "outputs": [
    {
     "name": "stdout",
     "output_type": "stream",
     "text": [
      "OK: 488\n"
     ]
    }
   ],
   "source": [
    "count = 0\n",
    "for i in range(len(original_set)):\n",
    "    if original_set.iloc[0].at['Text'] in pd_imdb['Text'].values:\n",
    "        count += 1\n",
    "\n",
    "if count == len(original_set):\n",
    "    print(f'OK: {count}')"
   ]
  },
  {
   "cell_type": "code",
   "execution_count": 6,
   "metadata": {},
   "outputs": [
    {
     "name": "stdout",
     "output_type": "stream",
     "text": [
      "3992\n"
     ]
    }
   ],
   "source": [
    "import random\n",
    "def build_example(dataset, index):\n",
    "    return f\"\"\"TEXT: {dataset['Text'][index]}\n",
    "SENTIMENT: {[\"NEGATIVE\", \"POSITIVE\"][dataset['Sentiment'][index]]}\n",
    "\"\"\"\n",
    "\n",
    "def get_build_prompt(dataset, shots=3):\n",
    "    def build_prompt(sent):\n",
    "        ret = \"\"\n",
    "        '''\n",
    "        if prompt_defintion and shots >0:\n",
    "            ret += 'Classify the Sentiment of the TEXT. You can only choose between NEGATIVE or POSITIVE. Here you have some examples:\\n\\n'\n",
    "        elif prompt_defintion:\n",
    "            ret += 'Classify the Sentiment of the TEXT. You can only choose between NEGATIVE or POSITIVE:\\n'\n",
    "        '''\n",
    "        \n",
    "        indexes = random.sample(range(0, len(dataset)-1), shots)\n",
    "        for index in indexes:\n",
    "            ret += build_example(dataset, index)+\"\\n\"\n",
    "        ret += f\"TEXT: {sent}\\n\"\n",
    "        ret += \"SENTIMENT:\"\n",
    "\n",
    "        return ret\n",
    "    \n",
    "    return build_prompt\n",
    "\n",
    "prompt = get_build_prompt(prompt_contrast_set, shots=5)\n",
    "print(len(prompt(\"This is my sentence\")))"
   ]
  },
  {
   "cell_type": "code",
   "execution_count": 7,
   "metadata": {},
   "outputs": [
    {
     "name": "stdout",
     "output_type": "stream",
     "text": [
      "1\n"
     ]
    }
   ],
   "source": [
    "def inference(*, prompt, sentence, generator):\n",
    "    input = prompt(sentence)\n",
    "    generated = generator(input, max_new_tokens=5, pad_token_id=generator.tokenizer.eos_token_id)[0]['generated_text']\n",
    "    generated = generated.replace(input, \"\").strip()\n",
    "    output = generated.split(\"\\n\")[0]\n",
    "\n",
    "    if \"NEGATIVE\" in output:\n",
    "        return 0\n",
    "    elif \"POSITIVE\" in output:\n",
    "        return 1\n",
    "    else:\n",
    "        #print(\"Model is confused... generated text: \", generated)\n",
    "        return 0\n",
    "\n",
    "print(inference(prompt=prompt, sentence=\"I love you\", generator=generator))"
   ]
  },
  {
   "cell_type": "code",
   "execution_count": 8,
   "metadata": {},
   "outputs": [],
   "source": [
    "import torch\n",
    "from tqdm import tqdm\n",
    "from transformers import pipeline\n",
    "from sklearn.metrics import classification_report\n",
    "\n",
    "@torch.no_grad()\n",
    "def eval(dataset, prompt_dataset):\n",
    "    overall_results = dict()\n",
    "\n",
    "    for shots in [0, 1, 3, 5]:\n",
    "        print(\"Running shot\", shots)\n",
    "\n",
    "        prompt = get_build_prompt(prompt_dataset, shots=shots)\n",
    "\n",
    "\n",
    "        total = len(dataset)\n",
    "        targets = []\n",
    "        predictions = []\n",
    "\n",
    "        for i in tqdm(range(total), total=total):\n",
    "            targets.append(dataset['Sentiment'][i])\n",
    "            predictions.append(inference(prompt=prompt, sentence=dataset['Text'][i], generator=generator))\n",
    "            if i >= total:\n",
    "                break\n",
    "    \n",
    "        report = classification_report(targets, predictions, output_dict=True)\n",
    "        overall_results[shots] = report\n",
    "\n",
    "    return overall_results"
   ]
  },
  {
   "cell_type": "code",
   "execution_count": 9,
   "metadata": {},
   "outputs": [
    {
     "name": "stdout",
     "output_type": "stream",
     "text": [
      "Running shot 0\n"
     ]
    },
    {
     "name": "stderr",
     "output_type": "stream",
     "text": [
      "  2%|▏         | 9/488 [00:02<01:45,  4.55it/s]/home/CristianCosci/.local/lib/python3.10/site-packages/transformers/pipelines/base.py:1157: UserWarning: You seem to be using the pipelines sequentially on GPU. In order to maximize efficiency please use a dataset\n",
      "  warnings.warn(\n",
      "100%|██████████| 488/488 [01:52<00:00,  4.33it/s]\n",
      "/usr/local/lib/python3.10/dist-packages/sklearn/metrics/_classification.py:1344: UndefinedMetricWarning: Precision and F-score are ill-defined and being set to 0.0 in labels with no predicted samples. Use `zero_division` parameter to control this behavior.\n",
      "  _warn_prf(average, modifier, msg_start, len(result))\n",
      "/usr/local/lib/python3.10/dist-packages/sklearn/metrics/_classification.py:1344: UndefinedMetricWarning: Precision and F-score are ill-defined and being set to 0.0 in labels with no predicted samples. Use `zero_division` parameter to control this behavior.\n",
      "  _warn_prf(average, modifier, msg_start, len(result))\n",
      "/usr/local/lib/python3.10/dist-packages/sklearn/metrics/_classification.py:1344: UndefinedMetricWarning: Precision and F-score are ill-defined and being set to 0.0 in labels with no predicted samples. Use `zero_division` parameter to control this behavior.\n",
      "  _warn_prf(average, modifier, msg_start, len(result))\n"
     ]
    },
    {
     "name": "stdout",
     "output_type": "stream",
     "text": [
      "Running shot 1\n"
     ]
    },
    {
     "name": "stderr",
     "output_type": "stream",
     "text": [
      "  0%|          | 0/488 [00:00<?, ?it/s]/home/CristianCosci/.local/lib/python3.10/site-packages/transformers/pipelines/base.py:1157: UserWarning: You seem to be using the pipelines sequentially on GPU. In order to maximize efficiency please use a dataset\n",
      "  warnings.warn(\n",
      "100%|██████████| 488/488 [02:23<00:00,  3.40it/s]\n"
     ]
    },
    {
     "name": "stdout",
     "output_type": "stream",
     "text": [
      "Running shot 3\n"
     ]
    },
    {
     "name": "stderr",
     "output_type": "stream",
     "text": [
      "  0%|          | 0/488 [00:00<?, ?it/s]/home/CristianCosci/.local/lib/python3.10/site-packages/transformers/pipelines/base.py:1157: UserWarning: You seem to be using the pipelines sequentially on GPU. In order to maximize efficiency please use a dataset\n",
      "  warnings.warn(\n",
      "100%|██████████| 488/488 [03:24<00:00,  2.39it/s]\n"
     ]
    },
    {
     "name": "stdout",
     "output_type": "stream",
     "text": [
      "Running shot 5\n"
     ]
    },
    {
     "name": "stderr",
     "output_type": "stream",
     "text": [
      "  0%|          | 0/488 [00:00<?, ?it/s]/home/CristianCosci/.local/lib/python3.10/site-packages/transformers/pipelines/base.py:1157: UserWarning: You seem to be using the pipelines sequentially on GPU. In order to maximize efficiency please use a dataset\n",
      "  warnings.warn(\n",
      "100%|██████████| 488/488 [04:34<00:00,  1.78it/s]\n"
     ]
    }
   ],
   "source": [
    "results_original_set = eval(dataset=original_set, prompt_dataset=prompt_original_set)\n",
    "\n",
    "with open('origin_results.json', 'w') as f:\n",
    "    json.dump(results_original_set, f, sort_keys=True, indent=4)"
   ]
  },
  {
   "cell_type": "code",
   "execution_count": 10,
   "metadata": {},
   "outputs": [
    {
     "name": "stdout",
     "output_type": "stream",
     "text": [
      "Running shot 0\n"
     ]
    },
    {
     "name": "stderr",
     "output_type": "stream",
     "text": [
      "  0%|          | 0/488 [00:00<?, ?it/s]/home/CristianCosci/.local/lib/python3.10/site-packages/transformers/pipelines/base.py:1157: UserWarning: You seem to be using the pipelines sequentially on GPU. In order to maximize efficiency please use a dataset\n",
      "  warnings.warn(\n",
      "100%|██████████| 488/488 [01:53<00:00,  4.29it/s]\n",
      "/usr/local/lib/python3.10/dist-packages/sklearn/metrics/_classification.py:1344: UndefinedMetricWarning: Precision and F-score are ill-defined and being set to 0.0 in labels with no predicted samples. Use `zero_division` parameter to control this behavior.\n",
      "  _warn_prf(average, modifier, msg_start, len(result))\n",
      "/usr/local/lib/python3.10/dist-packages/sklearn/metrics/_classification.py:1344: UndefinedMetricWarning: Precision and F-score are ill-defined and being set to 0.0 in labels with no predicted samples. Use `zero_division` parameter to control this behavior.\n",
      "  _warn_prf(average, modifier, msg_start, len(result))\n",
      "/usr/local/lib/python3.10/dist-packages/sklearn/metrics/_classification.py:1344: UndefinedMetricWarning: Precision and F-score are ill-defined and being set to 0.0 in labels with no predicted samples. Use `zero_division` parameter to control this behavior.\n",
      "  _warn_prf(average, modifier, msg_start, len(result))\n"
     ]
    },
    {
     "name": "stdout",
     "output_type": "stream",
     "text": [
      "Running shot 1\n"
     ]
    },
    {
     "name": "stderr",
     "output_type": "stream",
     "text": [
      "  0%|          | 0/488 [00:00<?, ?it/s]/home/CristianCosci/.local/lib/python3.10/site-packages/transformers/pipelines/base.py:1157: UserWarning: You seem to be using the pipelines sequentially on GPU. In order to maximize efficiency please use a dataset\n",
      "  warnings.warn(\n",
      "100%|██████████| 488/488 [02:26<00:00,  3.34it/s]\n"
     ]
    },
    {
     "name": "stdout",
     "output_type": "stream",
     "text": [
      "Running shot 3\n"
     ]
    },
    {
     "name": "stderr",
     "output_type": "stream",
     "text": [
      "  0%|          | 0/488 [00:00<?, ?it/s]/home/CristianCosci/.local/lib/python3.10/site-packages/transformers/pipelines/base.py:1157: UserWarning: You seem to be using the pipelines sequentially on GPU. In order to maximize efficiency please use a dataset\n",
      "  warnings.warn(\n",
      "100%|██████████| 488/488 [03:28<00:00,  2.34it/s]\n"
     ]
    },
    {
     "name": "stdout",
     "output_type": "stream",
     "text": [
      "Running shot 5\n"
     ]
    },
    {
     "name": "stderr",
     "output_type": "stream",
     "text": [
      "  0%|          | 0/488 [00:00<?, ?it/s]/home/CristianCosci/.local/lib/python3.10/site-packages/transformers/pipelines/base.py:1157: UserWarning: You seem to be using the pipelines sequentially on GPU. In order to maximize efficiency please use a dataset\n",
      "  warnings.warn(\n",
      "100%|██████████| 488/488 [04:40<00:00,  1.74it/s]\n"
     ]
    }
   ],
   "source": [
    "results_contrast_set = eval(dataset=contrast_set, prompt_dataset=prompt_contrast_set)\n",
    "\n",
    "with open('contrast_results.json', 'w') as f:\n",
    "    json.dump(results_contrast_set, f, sort_keys=True, indent=4)"
   ]
  },
  {
   "cell_type": "code",
   "execution_count": 11,
   "metadata": {},
   "outputs": [],
   "source": [
    "from matplotlib import pyplot as plt\n",
    "import numpy as np\n",
    "import pandas as pd\n",
    "\n",
    "performance_original = []\n",
    "performance_contrast = []\n",
    "\n",
    "for shot, report in results_original_set.items():\n",
    "    performance_original.append(dict(shot=shot, accuracy=report[\"accuracy\"]))\n",
    "\n",
    "for shot, report in results_contrast_set.items():\n",
    "    performance_contrast.append(dict(shot=shot, accuracy=report[\"accuracy\"]))\n"
   ]
  },
  {
   "cell_type": "code",
   "execution_count": 12,
   "metadata": {},
   "outputs": [
    {
     "name": "stdout",
     "output_type": "stream",
     "text": [
      "[0.4979508196721312, 0.5020491803278688, 0.6823770491803278, 0.6721311475409836, 0.7950819672131147, 0.7192622950819673, 0.8422131147540983, 0.7479508196721312]\n",
      "['0 Shots', '0 Shots C', '1 Shots', '1 Shots C', '3 Shots', '3 Shots C', '5 Shots', '5 Shots C']\n"
     ]
    }
   ],
   "source": [
    "total = []\n",
    "indexes = []\n",
    "original_result = [performance_original[x]['accuracy'] for x in range(len(performance_original))]\n",
    "contrast_result = [performance_contrast[x]['accuracy'] for x in range(len(performance_contrast))]\n",
    "shots_list = [str(x)+' Shots' for x in [y['shot'] for y in performance_contrast]]\n",
    "\n",
    "for i in range(len(original_result)):\n",
    "    total.append(original_result[i])\n",
    "    total.append(contrast_result[i])\n",
    "    indexes.append(shots_list[i])\n",
    "    indexes.append(shots_list[i]+' C')\n",
    "\n",
    "print(total)\n",
    "print(indexes)"
   ]
  },
  {
   "cell_type": "code",
   "execution_count": 13,
   "metadata": {},
   "outputs": [
    {
     "data": {
      "image/png": "[encoded data removed]",
      "text/plain": [
       "<Figure size 640x480 with 1 Axes>"
      ]
     },
     "metadata": {},
     "output_type": "display_data"
    }
   ],
   "source": [
    "plt.bar([i for i in range(len(indexes)) if i % 2 == 0], [total[i] for i in range(len(indexes)) if i % 2 == 0], color='blue', label='Original')\n",
    "plt.bar([i for i in range(len(indexes)) if i % 2 != 0], [total[i] for i in range(len(indexes)) if i % 2 != 0], color='orange', label='Contrast')\n",
    "plt.xticks(ticks = [i for i in range(len(indexes))], labels=[indexes[i] for i in range(len(indexes))], fontsize=6)\n",
    "\n",
    "plt.ylabel('Accuracy')\n",
    "plt.xlabel('Shots')\n",
    "\n",
    "plt.title('Accuracy on different Few Shots Situations')\n",
    "plt.legend()\n",
    "plt.show()"
   ]
  }
 ],
 "metadata": {
  "kernelspec": {
   "display_name": "Python 3",
   "language": "python",
   "name": "python3"
  },
  "language_info": {
   "codemirror_mode": {
    "name": "ipython",
    "version": 3
   },
   "file_extension": ".py",
   "mimetype": "text/x-python",
   "name": "python",
   "nbconvert_exporter": "python",
   "pygments_lexer": "ipython3",
   "version": "3.10.12"
  }
 },
 "nbformat": 4,
 "nbformat_minor": 2
}
